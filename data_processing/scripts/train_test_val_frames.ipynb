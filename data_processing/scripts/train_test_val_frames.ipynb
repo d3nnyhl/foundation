{
 "cells": [
  {
   "cell_type": "markdown",
   "metadata": {},
   "source": [
    "## GET FRAMES FOR VALIDATION TRAIN & TEST DATASET"
   ]
  },
  {
   "cell_type": "code",
   "execution_count": 8,
   "metadata": {},
   "outputs": [],
   "source": [
    "import pandas as pd\n",
    "import os\n",
    "import json"
   ]
  },
  {
   "cell_type": "code",
   "execution_count": 9,
   "metadata": {},
   "outputs": [],
   "source": [
    "output_prefix_path = \"/data0/Results\"\n",
    "raw_input_prefix_path = \"/data0/Data\""
   ]
  },
  {
   "cell_type": "code",
   "execution_count": 10,
   "metadata": {},
   "outputs": [],
   "source": [
    "#input_file = \"/data0/Data/ig_raw_frames/{}\"\n",
    "input_file = \"{{}}/ig_raw_frames/{}\"\n",
    "\n",
    "#output_train_file = \"/data0/Results/lift_classification/train_lift_frames/{}\"\n",
    "output_train_file = \"{}/lift_classification/train_lift_frames.json\"\n",
    "\n",
    "#output_test_file = \"/data0/Results/lift_classification/test_lift_frames/{}\"\n",
    "output_test_file = \"{}/lift_classification/test_lift_frames.json\"\n",
    "\n",
    "#output_validation_file = \"/data0/Results/lift_classification/train_lift_frames/{}\"\n",
    "output_validation_file = \"{}/lift_classification/validation_lift_frames.json\"\n",
    "\n",
    "train_path = \"/data0/Data/composite_jsons/data_splits/train.json\"\n",
    "test_path = \"/data0/Data/composite_jsons/data_splits/test.json\"\n",
    "validation_path = \"/data0/Data/composite_jsons/data_splits/validation.json\"\n",
    "composite_json_path = \"/data0/Data/composite_jsons/{}\""
   ]
  },
  {
   "cell_type": "code",
   "execution_count": 11,
   "metadata": {},
   "outputs": [],
   "source": [
    "train_data = pd.read_json(train_path)\n",
    "test_data = pd.read_json(test_path)\n",
    "validation_data = pd.read_json(validation_path)"
   ]
  },
  {
   "cell_type": "code",
   "execution_count": 12,
   "metadata": {},
   "outputs": [
    {
     "data": {
      "text/html": [
       "<div>\n",
       "<style scoped>\n",
       "    .dataframe tbody tr th:only-of-type {\n",
       "        vertical-align: middle;\n",
       "    }\n",
       "\n",
       "    .dataframe tbody tr th {\n",
       "        vertical-align: top;\n",
       "    }\n",
       "\n",
       "    .dataframe thead th {\n",
       "        text-align: right;\n",
       "    }\n",
       "</style>\n",
       "<table border=\"1\" class=\"dataframe\">\n",
       "  <thead>\n",
       "    <tr style=\"text-align: right;\">\n",
       "      <th></th>\n",
       "      <th>composite_json</th>\n",
       "      <th>macro</th>\n",
       "      <th>micro</th>\n",
       "    </tr>\n",
       "  </thead>\n",
       "  <tbody>\n",
       "    <tr>\n",
       "      <th>0</th>\n",
       "      <td>35538998_2056904291295716_6072990298055639040_...</td>\n",
       "      <td>deadlift</td>\n",
       "      <td>[conventional]</td>\n",
       "    </tr>\n",
       "    <tr>\n",
       "      <th>1</th>\n",
       "      <td>36675596_210677146256183_549651318840596073_n_...</td>\n",
       "      <td>deadlift</td>\n",
       "      <td>[conventional]</td>\n",
       "    </tr>\n",
       "    <tr>\n",
       "      <th>2</th>\n",
       "      <td>36408131_488686898237457_4752072826997964800_n...</td>\n",
       "      <td>benchpress</td>\n",
       "      <td>[regular]</td>\n",
       "    </tr>\n",
       "    <tr>\n",
       "      <th>3</th>\n",
       "      <td>36771650_1722039104569900_3105120230972588032_...</td>\n",
       "      <td>deadlift</td>\n",
       "      <td>[conventional]</td>\n",
       "    </tr>\n",
       "    <tr>\n",
       "      <th>4</th>\n",
       "      <td>36566401_200430427332741_4703183106893414400_n...</td>\n",
       "      <td>deadlift</td>\n",
       "      <td>[conventional]</td>\n",
       "    </tr>\n",
       "  </tbody>\n",
       "</table>\n",
       "</div>"
      ],
      "text/plain": [
       "                                      composite_json       macro  \\\n",
       "0  35538998_2056904291295716_6072990298055639040_...    deadlift   \n",
       "1  36675596_210677146256183_549651318840596073_n_...    deadlift   \n",
       "2  36408131_488686898237457_4752072826997964800_n...  benchpress   \n",
       "3  36771650_1722039104569900_3105120230972588032_...    deadlift   \n",
       "4  36566401_200430427332741_4703183106893414400_n...    deadlift   \n",
       "\n",
       "            micro  \n",
       "0  [conventional]  \n",
       "1  [conventional]  \n",
       "2       [regular]  \n",
       "3  [conventional]  \n",
       "4  [conventional]  "
      ]
     },
     "execution_count": 12,
     "metadata": {},
     "output_type": "execute_result"
    }
   ],
   "source": [
    "train_data.head()"
   ]
  },
  {
   "cell_type": "code",
   "execution_count": 13,
   "metadata": {},
   "outputs": [],
   "source": [
    "def get_frames(dataset, outpath):\n",
    "    data = {}\n",
    "    for index, row in dataset.iterrows():\n",
    "        lift_type = row['macro']\n",
    "        file_name = row['composite_json']\n",
    "        with open(composite_json_path.format(lift_type + \"/\" + file_name)) as j_file:\n",
    "            json_data = json.load(j_file)\n",
    "            \n",
    "            raw_filename = json_data[\"metadata\"][\"filename\"] # rawfile concanetaed with image.\n",
    "            raw_folder = json_data[\"metadata\"][\"folder\"]\n",
    "            \n",
    "            # raw_input_directory = \"{}/ig_raw_frames/benchpress/xxxx_n\"\n",
    "            raw_input_directory = input_file.format(raw_folder + \"/\" + raw_filename)\n",
    "            for image in os.listdir(raw_input_directory.format(raw_input_prefix_path)):\n",
    "                idx = int(image.strip('.jpg'))\n",
    "                if idx % 5 == 0:\n",
    "                    data[raw_filename + \"_\" + image] = {\"path\": raw_input_directory + \"/\" + image,\n",
    "                                                        \"label\": lift_type,\n",
    "                                                        \"filename\": raw_filename}\n",
    "                    \n",
    "    if not os.path.exists(outpath.format(output_prefix_path)):\n",
    "        with open(outpath.format(output_prefix_path), 'w') as outfile:\n",
    "            json.dump(data, outfile, indent=4, separators=(',', ': '))\n",
    "        print(\"Number of images/frames: {}\".format(len(data.keys())))"
   ]
  },
  {
   "cell_type": "code",
   "execution_count": 14,
   "metadata": {},
   "outputs": [
    {
     "name": "stdout",
     "output_type": "stream",
     "text": [
      "Number of images/frames: 1401110\n"
     ]
    }
   ],
   "source": [
    "# Get train frames\n",
    "get_frames(train_data, output_train_file)"
   ]
  },
  {
   "cell_type": "code",
   "execution_count": 15,
   "metadata": {},
   "outputs": [
    {
     "name": "stdout",
     "output_type": "stream",
     "text": [
      "Number of images/frames: 298290\n"
     ]
    }
   ],
   "source": [
    "# Get test frames\n",
    "get_frames(test_data, output_test_file)"
   ]
  },
  {
   "cell_type": "code",
   "execution_count": 16,
   "metadata": {},
   "outputs": [
    {
     "name": "stdout",
     "output_type": "stream",
     "text": [
      "Number of images/frames: 197475\n"
     ]
    }
   ],
   "source": [
    "# Get validation frames\n",
    "get_frames(validation_data, output_validation_file)"
   ]
  },
  {
   "cell_type": "code",
   "execution_count": null,
   "metadata": {},
   "outputs": [],
   "source": []
  }
 ],
 "metadata": {
  "kernelspec": {
   "display_name": "Python 3",
   "language": "python",
   "name": "python3"
  },
  "language_info": {
   "codemirror_mode": {
    "name": "ipython",
    "version": 3
   },
   "file_extension": ".py",
   "mimetype": "text/x-python",
   "name": "python",
   "nbconvert_exporter": "python",
   "pygments_lexer": "ipython3",
   "version": "3.5.2"
  }
 },
 "nbformat": 4,
 "nbformat_minor": 2
}
