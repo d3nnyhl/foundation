{
 "cells": [
  {
   "cell_type": "code",
   "execution_count": 31,
   "metadata": {},
   "outputs": [
    {
     "name": "stdout",
     "output_type": "stream",
     "text": [
      "Creating train, val, test splits\n",
      "Train dataset size:  (8590, 3)\n",
      "Val dataset size:  (1145, 3)\n",
      "Test dataset size:  (1719, 3)\n",
      "Completed writing files.\n"
     ]
    }
   ],
   "source": [
    "import pandas as pd\n",
    "import numpy as np\n",
    "import json\n",
    "\n",
    "input_path = \"../usable_micro_labeled_video_list.json\"\n",
    "output_path = \"/home/manoj/train_test_val_splits/{}\"\n",
    "output_files = [\"train.json\", \"validation.json\", \"test.json\"]\n",
    "TRAIN_PERCENT = 0.75\n",
    "VALID_PERCENT = 0.85\n",
    "\n",
    "\n",
    "def train_val_test_splits(df, train_percent, valid_percent):\n",
    "\t'''\n",
    "\tSplits the dataframe into train , val and test dataframes.\n",
    "\t'''\n",
    "\ttrain, val, test = np.split(df.sample(frac=1), \\\n",
    "\t\t\t\t\t[int(train_percent*len(df)), int(valid_percent*len(df))])\n",
    "\tprint(\"Train dataset size: \", train.shape)\n",
    "\tprint(\"Val dataset size: \", val.shape)\n",
    "\tprint(\"Test dataset size: \", test.shape)\n",
    "\treturn [train, val, test]\n",
    "\n",
    "def write_splits(df, train_percent, valid_percent):\n",
    "\t'''\n",
    "\tCalls train_val_test_splits() to split the dataframe and writes the splits \n",
    "\tto the location as specified by the output path.\n",
    "\t'''\n",
    "\tprint(\"Creating train, val, test splits\")\n",
    "\tsplits = train_val_test_splits(df, train_percent, valid_percent)\n",
    "\tfor i in range(0, 3):\n",
    "\t\tsplits[i].to_json(output_path.format(output_files[i]), orient = 'records')\n",
    "\n",
    "\n",
    "if __name__ == '__main__':\n",
    "\tdf = pd.read_json(input_path, orient = 'records')\n",
    "\twrite_splits(df, TRAIN_PERCENT, VALID_PERCENT)\n",
    "\tprint(\"Completed writing files.\")\n"
   ]
  },
  {
   "cell_type": "code",
   "execution_count": 32,
   "metadata": {},
   "outputs": [],
   "source": [
    "train = pd.read_json('/home/manoj/train_test_val_splits/train.json')\n",
    "test = pd.read_json('/home/manoj/train_test_val_splits/test.json')\n",
    "val = pd.read_json('/home/manoj/train_test_val_splits/validation.json')"
   ]
  },
  {
   "cell_type": "code",
   "execution_count": 33,
   "metadata": {},
   "outputs": [
    {
     "data": {
      "text/plain": [
       "composite_json    8590\n",
       "macro             8590\n",
       "micro             8590\n",
       "dtype: int64"
      ]
     },
     "execution_count": 33,
     "metadata": {},
     "output_type": "execute_result"
    }
   ],
   "source": [
    "train.count()"
   ]
  },
  {
   "cell_type": "code",
   "execution_count": 34,
   "metadata": {},
   "outputs": [
    {
     "data": {
      "text/plain": [
       "composite_json    1719\n",
       "macro             1719\n",
       "micro             1719\n",
       "dtype: int64"
      ]
     },
     "execution_count": 34,
     "metadata": {},
     "output_type": "execute_result"
    }
   ],
   "source": [
    "test.count()"
   ]
  },
  {
   "cell_type": "code",
   "execution_count": 35,
   "metadata": {},
   "outputs": [
    {
     "data": {
      "text/plain": [
       "composite_json    1145\n",
       "macro             1145\n",
       "micro             1145\n",
       "dtype: int64"
      ]
     },
     "execution_count": 35,
     "metadata": {},
     "output_type": "execute_result"
    }
   ],
   "source": [
    "val.count()"
   ]
  },
  {
   "cell_type": "code",
   "execution_count": 36,
   "metadata": {},
   "outputs": [
    {
     "data": {
      "text/html": [
       "<div>\n",
       "<style scoped>\n",
       "    .dataframe tbody tr th:only-of-type {\n",
       "        vertical-align: middle;\n",
       "    }\n",
       "\n",
       "    .dataframe tbody tr th {\n",
       "        vertical-align: top;\n",
       "    }\n",
       "\n",
       "    .dataframe thead th {\n",
       "        text-align: right;\n",
       "    }\n",
       "</style>\n",
       "<table border=\"1\" class=\"dataframe\">\n",
       "  <thead>\n",
       "    <tr style=\"text-align: right;\">\n",
       "      <th></th>\n",
       "      <th>composite_json</th>\n",
       "      <th>micro</th>\n",
       "    </tr>\n",
       "    <tr>\n",
       "      <th>macro</th>\n",
       "      <th></th>\n",
       "      <th></th>\n",
       "    </tr>\n",
       "  </thead>\n",
       "  <tbody>\n",
       "    <tr>\n",
       "      <th>benchpress</th>\n",
       "      <td>2510</td>\n",
       "      <td>2510</td>\n",
       "    </tr>\n",
       "    <tr>\n",
       "      <th>deadlift</th>\n",
       "      <td>2561</td>\n",
       "      <td>2561</td>\n",
       "    </tr>\n",
       "    <tr>\n",
       "      <th>squat</th>\n",
       "      <td>3519</td>\n",
       "      <td>3519</td>\n",
       "    </tr>\n",
       "  </tbody>\n",
       "</table>\n",
       "</div>"
      ],
      "text/plain": [
       "            composite_json  micro\n",
       "macro                            \n",
       "benchpress            2510   2510\n",
       "deadlift              2561   2561\n",
       "squat                 3519   3519"
      ]
     },
     "execution_count": 36,
     "metadata": {},
     "output_type": "execute_result"
    }
   ],
   "source": [
    "train.groupby('macro').count()"
   ]
  },
  {
   "cell_type": "code",
   "execution_count": 37,
   "metadata": {},
   "outputs": [
    {
     "data": {
      "text/html": [
       "<div>\n",
       "<style scoped>\n",
       "    .dataframe tbody tr th:only-of-type {\n",
       "        vertical-align: middle;\n",
       "    }\n",
       "\n",
       "    .dataframe tbody tr th {\n",
       "        vertical-align: top;\n",
       "    }\n",
       "\n",
       "    .dataframe thead th {\n",
       "        text-align: right;\n",
       "    }\n",
       "</style>\n",
       "<table border=\"1\" class=\"dataframe\">\n",
       "  <thead>\n",
       "    <tr style=\"text-align: right;\">\n",
       "      <th></th>\n",
       "      <th>composite_json</th>\n",
       "      <th>micro</th>\n",
       "    </tr>\n",
       "    <tr>\n",
       "      <th>macro</th>\n",
       "      <th></th>\n",
       "      <th></th>\n",
       "    </tr>\n",
       "  </thead>\n",
       "  <tbody>\n",
       "    <tr>\n",
       "      <th>benchpress</th>\n",
       "      <td>496</td>\n",
       "      <td>496</td>\n",
       "    </tr>\n",
       "    <tr>\n",
       "      <th>deadlift</th>\n",
       "      <td>498</td>\n",
       "      <td>498</td>\n",
       "    </tr>\n",
       "    <tr>\n",
       "      <th>squat</th>\n",
       "      <td>725</td>\n",
       "      <td>725</td>\n",
       "    </tr>\n",
       "  </tbody>\n",
       "</table>\n",
       "</div>"
      ],
      "text/plain": [
       "            composite_json  micro\n",
       "macro                            \n",
       "benchpress             496    496\n",
       "deadlift               498    498\n",
       "squat                  725    725"
      ]
     },
     "execution_count": 37,
     "metadata": {},
     "output_type": "execute_result"
    }
   ],
   "source": [
    "test.groupby('macro').count()"
   ]
  },
  {
   "cell_type": "code",
   "execution_count": 38,
   "metadata": {},
   "outputs": [
    {
     "data": {
      "text/html": [
       "<div>\n",
       "<style scoped>\n",
       "    .dataframe tbody tr th:only-of-type {\n",
       "        vertical-align: middle;\n",
       "    }\n",
       "\n",
       "    .dataframe tbody tr th {\n",
       "        vertical-align: top;\n",
       "    }\n",
       "\n",
       "    .dataframe thead th {\n",
       "        text-align: right;\n",
       "    }\n",
       "</style>\n",
       "<table border=\"1\" class=\"dataframe\">\n",
       "  <thead>\n",
       "    <tr style=\"text-align: right;\">\n",
       "      <th></th>\n",
       "      <th>composite_json</th>\n",
       "      <th>micro</th>\n",
       "    </tr>\n",
       "    <tr>\n",
       "      <th>macro</th>\n",
       "      <th></th>\n",
       "      <th></th>\n",
       "    </tr>\n",
       "  </thead>\n",
       "  <tbody>\n",
       "    <tr>\n",
       "      <th>benchpress</th>\n",
       "      <td>322</td>\n",
       "      <td>322</td>\n",
       "    </tr>\n",
       "    <tr>\n",
       "      <th>deadlift</th>\n",
       "      <td>331</td>\n",
       "      <td>331</td>\n",
       "    </tr>\n",
       "    <tr>\n",
       "      <th>squat</th>\n",
       "      <td>492</td>\n",
       "      <td>492</td>\n",
       "    </tr>\n",
       "  </tbody>\n",
       "</table>\n",
       "</div>"
      ],
      "text/plain": [
       "            composite_json  micro\n",
       "macro                            \n",
       "benchpress             322    322\n",
       "deadlift               331    331\n",
       "squat                  492    492"
      ]
     },
     "execution_count": 38,
     "metadata": {},
     "output_type": "execute_result"
    }
   ],
   "source": [
    "val.groupby('macro').count()"
   ]
  }
 ],
 "metadata": {
  "kernelspec": {
   "display_name": "Python 2",
   "language": "python",
   "name": "python2"
  },
  "language_info": {
   "codemirror_mode": {
    "name": "ipython",
    "version": 3
   },
   "file_extension": ".py",
   "mimetype": "text/x-python",
   "name": "python",
   "nbconvert_exporter": "python",
   "pygments_lexer": "ipython3",
   "version": "3.5.2"
  }
 },
 "nbformat": 4,
 "nbformat_minor": 2
}
