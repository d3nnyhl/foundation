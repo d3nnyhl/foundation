{
 "cells": [
  {
   "cell_type": "markdown",
   "metadata": {},
   "source": [
    "### Import Statements"
   ]
  },
  {
   "cell_type": "code",
   "execution_count": 89,
   "metadata": {},
   "outputs": [],
   "source": [
    "import json\n",
    "import os"
   ]
  },
  {
   "cell_type": "markdown",
   "metadata": {},
   "source": [
    "### Create json File (need to change to json)"
   ]
  },
  {
   "cell_type": "code",
   "execution_count": 90,
   "metadata": {},
   "outputs": [],
   "source": [
    "json_data = []"
   ]
  },
  {
   "cell_type": "markdown",
   "metadata": {},
   "source": [
    "### Get Current Working Directory"
   ]
  },
  {
   "cell_type": "code",
   "execution_count": 91,
   "metadata": {},
   "outputs": [],
   "source": [
    "cwd = \"/data0/Data/composite_jsons\"\n",
    "stationary_video_path = \"/home/timothyk/\"\n",
    "benchpress_cache = {}\n",
    "squat_cache = {}\n",
    "deadlift_cache = {}"
   ]
  },
  {
   "cell_type": "markdown",
   "metadata": {},
   "source": [
    "### Checks if the video file is a stationary video"
   ]
  },
  {
   "cell_type": "code",
   "execution_count": 92,
   "metadata": {},
   "outputs": [],
   "source": [
    "def is_stationary_video(file_name, file_folder):\n",
    "    if file_folder == \"benchpress\" and benchpress_cache[file_name] == 2:\n",
    "        return True\n",
    "    elif file_folder == \"squat\" and squat_cache[file_name] == 2:\n",
    "        return True\n",
    "    elif file_folder == \"deadlift\" and deadlift_cache[file_name] == 2:\n",
    "        return True\n",
    "    return False"
   ]
  },
  {
   "cell_type": "code",
   "execution_count": 93,
   "metadata": {},
   "outputs": [],
   "source": [
    "def stationary_videoset():\n",
    "    input_files = [stationary_video_path + \"benchpress_stationary.json\",\n",
    "                   stationary_video_path + \"squat_stationary.json\", \n",
    "                   stationary_video_path + \"deadlift_stationary.json\"]\n",
    "    \n",
    "    for i, path in enumerate(input_files):\n",
    "        with open(path) as f:\n",
    "            stationary_file = json.load(f)\n",
    "        results = stationary_file['result']\n",
    "\n",
    "        for dicts in results:\n",
    "            file_name = dicts['filename']\n",
    "            decision = dicts['decision']\n",
    "            if i == 0:\n",
    "                benchpress_cache[file_name] = decision\n",
    "            if i == 1:\n",
    "                squat_cache[file_name] = decision\n",
    "            if i == 2:\n",
    "                deadlift_cache[file_name] = decision"
   ]
  },
  {
   "cell_type": "markdown",
   "metadata": {},
   "source": [
    "### Checks If Useful, And Add to JSON_DATA"
   ]
  },
  {
   "cell_type": "code",
   "execution_count": 94,
   "metadata": {},
   "outputs": [],
   "source": [
    "def checkAdd(directory, filename, file_folder):\n",
    "    # data is a json file\n",
    "    path = directory + filename\n",
    "    with open(path) as f:\n",
    "        data = json.load(f)\n",
    "    \n",
    "    # A String\n",
    "    macro = data[\"gt_labels\"][\"lift_type\"][\"macro\"]\n",
    "    # A json array \n",
    "    micro = data[\"gt_labels\"][\"lift_type\"][\"micro\"]\n",
    "\n",
    "    \n",
    "    #added these###\n",
    "    file_name = data[\"metadata\"][\"filename\"] #this is in the format 303_333_n\n",
    "    \n",
    "    # Check conditions: microlabels don't contain accessory or none\n",
    "    if is_stationary_video(file_name, file_folder) and \"accessory\" not in micro and \"none\" not in micro:\n",
    "        jsonD = {}\n",
    "        jsonD['composite_json'] = filename # this file has extention _liftype.json\n",
    "        jsonD['macro'] = macro\n",
    "        jsonD['micro'] = micro\n",
    "        json_data.append(jsonD)\n"
   ]
  },
  {
   "cell_type": "markdown",
   "metadata": {},
   "source": [
    "### Iterate Through Folders and Retreive Useful Files"
   ]
  },
  {
   "cell_type": "code",
   "execution_count": 95,
   "metadata": {},
   "outputs": [],
   "source": [
    "stationary_videoset()\n",
    "subdirs = [x[0] for x in os.walk(cwd)] \n",
    "for subdir in subdirs:  \n",
    "    # pass cleanandjerk and snatch for now\n",
    "    if subdir == cwd + \"/cleanandjerk\" or subdir == cwd + \"/snatch\":\n",
    "        continue\n",
    "    elif subdir == cwd + \"/benchpress\" or subdir == cwd + \"/deadlift\" or subdir == cwd + \"/squat\":\n",
    "        file_folder = os.path.basename(subdir) #this is benchpress, squat, deadlift from composite_json\n",
    "        for filename in os.listdir(subdir):\n",
    "            if filename.endswith(\".json\"): \n",
    "                checkAdd(subdir + \"/\", filename, file_folder)\n",
    "            else:\n",
    "                continue"
   ]
  },
  {
   "cell_type": "markdown",
   "metadata": {},
   "source": [
    "### Dump JSON File With Useful Info"
   ]
  },
  {
   "cell_type": "code",
   "execution_count": 96,
   "metadata": {},
   "outputs": [],
   "source": [
    "with open(\"usable_micro_labeled_video_list.json\", 'w+') as outfile:\n",
    "    json.dump(json_data, outfile, indent=4, separators=(',', ': '))"
   ]
  },
  {
   "cell_type": "code",
   "execution_count": null,
   "metadata": {},
   "outputs": [],
   "source": []
  }
 ],
 "metadata": {
  "kernelspec": {
   "display_name": "Python 2",
   "language": "python",
   "name": "python2"
  },
  "language_info": {
   "codemirror_mode": {
    "name": "ipython",
    "version": 3
   },
   "file_extension": ".py",
   "mimetype": "text/x-python",
   "name": "python",
   "nbconvert_exporter": "python",
   "pygments_lexer": "ipython3",
   "version": "3.5.2"
  }
 },
 "nbformat": 4,
 "nbformat_minor": 2
}
